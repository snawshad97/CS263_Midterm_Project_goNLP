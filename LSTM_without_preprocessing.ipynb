{
  "nbformat": 4,
  "nbformat_minor": 0,
  "metadata": {
    "colab": {
      "name": "LSTM without preprocessing",
      "provenance": []
    },
    "kernelspec": {
      "name": "python3",
      "display_name": "Python 3"
    },
    "language_info": {
      "name": "python"
    }
  },
  "cells": [
    {
      "cell_type": "code",
      "execution_count": 1,
      "metadata": {
        "colab": {
          "base_uri": "https://localhost:8080/"
        },
        "id": "-MfU7rvFCAvK",
        "outputId": "a266316a-a2d7-44ea-9cd3-e4c714b69860"
      },
      "outputs": [
        {
          "output_type": "stream",
          "name": "stdout",
          "text": [
            "1.11.0+cu113\n"
          ]
        }
      ],
      "source": [
        "## LSTM without preprocessing\n",
        "import pandas as pd\n",
        "import numpy as np\n",
        "import torch\n",
        "from torch import cuda\n",
        "import random\n",
        "import os\n",
        "import re\n",
        "import string\n",
        "import torch\n",
        "from torch import nn\n",
        "from collections import Counter\n",
        "from sklearn.model_selection import train_test_split\n",
        "from sklearn.metrics import f1_score, classification_report\n",
        "from sklearn.utils.class_weight import compute_class_weight\n",
        "from matplotlib import pyplot as plt\n",
        "print(torch.__version__)"
      ]
    },
    {
      "cell_type": "code",
      "source": [
        "# data import\n",
        "#Training_data\n",
        "train_data = pd.read_csv(r\"/content/train.csv\")\n",
        "print(train_data)\n",
        "#test data import\n",
        "test_data = pd.read_csv(r\"/content/test.csv\")\n",
        "print(test_data)"
      ],
      "metadata": {
        "colab": {
          "base_uri": "https://localhost:8080/"
        },
        "id": "HH8pP0-aDUMD",
        "outputId": "a9b70052-830e-458f-d61a-a6cc4cc5e989"
      },
      "execution_count": 5,
      "outputs": [
        {
          "output_type": "stream",
          "name": "stdout",
          "text": [
            "         id keyword location  \\\n",
            "0         1     NaN      NaN   \n",
            "1         4     NaN      NaN   \n",
            "2         5     NaN      NaN   \n",
            "3         6     NaN      NaN   \n",
            "4         7     NaN      NaN   \n",
            "...     ...     ...      ...   \n",
            "7608  10869     NaN      NaN   \n",
            "7609  10870     NaN      NaN   \n",
            "7610  10871     NaN      NaN   \n",
            "7611  10872     NaN      NaN   \n",
            "7612  10873     NaN      NaN   \n",
            "\n",
            "                                                   text  target  \n",
            "0     Our Deeds are the Reason of this #earthquake M...       1  \n",
            "1                Forest fire near La Ronge Sask. Canada       1  \n",
            "2     All residents asked to 'shelter in place' are ...       1  \n",
            "3     13,000 people receive #wildfires evacuation or...       1  \n",
            "4     Just got sent this photo from Ruby #Alaska as ...       1  \n",
            "...                                                 ...     ...  \n",
            "7608  Two giant cranes holding a bridge collapse int...       1  \n",
            "7609  @aria_ahrary @TheTawniest The out of control w...       1  \n",
            "7610  M1.94 [01:04 UTC]?5km S of Volcano Hawaii. htt...       1  \n",
            "7611  Police investigating after an e-bike collided ...       1  \n",
            "7612  The Latest: More Homes Razed by Northern Calif...       1  \n",
            "\n",
            "[7613 rows x 5 columns]\n",
            "         id keyword location  \\\n",
            "0         0     NaN      NaN   \n",
            "1         2     NaN      NaN   \n",
            "2         3     NaN      NaN   \n",
            "3         9     NaN      NaN   \n",
            "4        11     NaN      NaN   \n",
            "...     ...     ...      ...   \n",
            "3258  10861     NaN      NaN   \n",
            "3259  10865     NaN      NaN   \n",
            "3260  10868     NaN      NaN   \n",
            "3261  10874     NaN      NaN   \n",
            "3262  10875     NaN      NaN   \n",
            "\n",
            "                                                   text  \n",
            "0                    Just happened a terrible car crash  \n",
            "1     Heard about #earthquake is different cities, s...  \n",
            "2     there is a forest fire at spot pond, geese are...  \n",
            "3              Apocalypse lighting. #Spokane #wildfires  \n",
            "4         Typhoon Soudelor kills 28 in China and Taiwan  \n",
            "...                                                 ...  \n",
            "3258  EARTHQUAKE SAFETY LOS ANGELES ÛÒ SAFETY FASTE...  \n",
            "3259  Storm in RI worse than last hurricane. My city...  \n",
            "3260  Green Line derailment in Chicago http://t.co/U...  \n",
            "3261  MEG issues Hazardous Weather Outlook (HWO) htt...  \n",
            "3262  #CityofCalgary has activated its Municipal Eme...  \n",
            "\n",
            "[3263 rows x 4 columns]\n"
          ]
        }
      ]
    },
    {
      "cell_type": "code",
      "source": [
        "print(train_data.columns)\n",
        "train_data.head(5)"
      ],
      "metadata": {
        "colab": {
          "base_uri": "https://localhost:8080/",
          "height": 224
        },
        "id": "csXxMNpnD8QB",
        "outputId": "5f1c913c-5001-4d72-8dfe-098771834716"
      },
      "execution_count": 6,
      "outputs": [
        {
          "output_type": "stream",
          "name": "stdout",
          "text": [
            "Index(['id', 'keyword', 'location', 'text', 'target'], dtype='object')\n"
          ]
        },
        {
          "output_type": "execute_result",
          "data": {
            "text/plain": [
              "   id keyword location                                               text  \\\n",
              "0   1     NaN      NaN  Our Deeds are the Reason of this #earthquake M...   \n",
              "1   4     NaN      NaN             Forest fire near La Ronge Sask. Canada   \n",
              "2   5     NaN      NaN  All residents asked to 'shelter in place' are ...   \n",
              "3   6     NaN      NaN  13,000 people receive #wildfires evacuation or...   \n",
              "4   7     NaN      NaN  Just got sent this photo from Ruby #Alaska as ...   \n",
              "\n",
              "   target  \n",
              "0       1  \n",
              "1       1  \n",
              "2       1  \n",
              "3       1  \n",
              "4       1  "
            ],
            "text/html": [
              "\n",
              "  <div id=\"df-c19fc415-07cc-473f-a364-c03ac2e377fd\">\n",
              "    <div class=\"colab-df-container\">\n",
              "      <div>\n",
              "<style scoped>\n",
              "    .dataframe tbody tr th:only-of-type {\n",
              "        vertical-align: middle;\n",
              "    }\n",
              "\n",
              "    .dataframe tbody tr th {\n",
              "        vertical-align: top;\n",
              "    }\n",
              "\n",
              "    .dataframe thead th {\n",
              "        text-align: right;\n",
              "    }\n",
              "</style>\n",
              "<table border=\"1\" class=\"dataframe\">\n",
              "  <thead>\n",
              "    <tr style=\"text-align: right;\">\n",
              "      <th></th>\n",
              "      <th>id</th>\n",
              "      <th>keyword</th>\n",
              "      <th>location</th>\n",
              "      <th>text</th>\n",
              "      <th>target</th>\n",
              "    </tr>\n",
              "  </thead>\n",
              "  <tbody>\n",
              "    <tr>\n",
              "      <th>0</th>\n",
              "      <td>1</td>\n",
              "      <td>NaN</td>\n",
              "      <td>NaN</td>\n",
              "      <td>Our Deeds are the Reason of this #earthquake M...</td>\n",
              "      <td>1</td>\n",
              "    </tr>\n",
              "    <tr>\n",
              "      <th>1</th>\n",
              "      <td>4</td>\n",
              "      <td>NaN</td>\n",
              "      <td>NaN</td>\n",
              "      <td>Forest fire near La Ronge Sask. Canada</td>\n",
              "      <td>1</td>\n",
              "    </tr>\n",
              "    <tr>\n",
              "      <th>2</th>\n",
              "      <td>5</td>\n",
              "      <td>NaN</td>\n",
              "      <td>NaN</td>\n",
              "      <td>All residents asked to 'shelter in place' are ...</td>\n",
              "      <td>1</td>\n",
              "    </tr>\n",
              "    <tr>\n",
              "      <th>3</th>\n",
              "      <td>6</td>\n",
              "      <td>NaN</td>\n",
              "      <td>NaN</td>\n",
              "      <td>13,000 people receive #wildfires evacuation or...</td>\n",
              "      <td>1</td>\n",
              "    </tr>\n",
              "    <tr>\n",
              "      <th>4</th>\n",
              "      <td>7</td>\n",
              "      <td>NaN</td>\n",
              "      <td>NaN</td>\n",
              "      <td>Just got sent this photo from Ruby #Alaska as ...</td>\n",
              "      <td>1</td>\n",
              "    </tr>\n",
              "  </tbody>\n",
              "</table>\n",
              "</div>\n",
              "      <button class=\"colab-df-convert\" onclick=\"convertToInteractive('df-c19fc415-07cc-473f-a364-c03ac2e377fd')\"\n",
              "              title=\"Convert this dataframe to an interactive table.\"\n",
              "              style=\"display:none;\">\n",
              "        \n",
              "  <svg xmlns=\"http://www.w3.org/2000/svg\" height=\"24px\"viewBox=\"0 0 24 24\"\n",
              "       width=\"24px\">\n",
              "    <path d=\"M0 0h24v24H0V0z\" fill=\"none\"/>\n",
              "    <path d=\"M18.56 5.44l.94 2.06.94-2.06 2.06-.94-2.06-.94-.94-2.06-.94 2.06-2.06.94zm-11 1L8.5 8.5l.94-2.06 2.06-.94-2.06-.94L8.5 2.5l-.94 2.06-2.06.94zm10 10l.94 2.06.94-2.06 2.06-.94-2.06-.94-.94-2.06-.94 2.06-2.06.94z\"/><path d=\"M17.41 7.96l-1.37-1.37c-.4-.4-.92-.59-1.43-.59-.52 0-1.04.2-1.43.59L10.3 9.45l-7.72 7.72c-.78.78-.78 2.05 0 2.83L4 21.41c.39.39.9.59 1.41.59.51 0 1.02-.2 1.41-.59l7.78-7.78 2.81-2.81c.8-.78.8-2.07 0-2.86zM5.41 20L4 18.59l7.72-7.72 1.47 1.35L5.41 20z\"/>\n",
              "  </svg>\n",
              "      </button>\n",
              "      \n",
              "  <style>\n",
              "    .colab-df-container {\n",
              "      display:flex;\n",
              "      flex-wrap:wrap;\n",
              "      gap: 12px;\n",
              "    }\n",
              "\n",
              "    .colab-df-convert {\n",
              "      background-color: #E8F0FE;\n",
              "      border: none;\n",
              "      border-radius: 50%;\n",
              "      cursor: pointer;\n",
              "      display: none;\n",
              "      fill: #1967D2;\n",
              "      height: 32px;\n",
              "      padding: 0 0 0 0;\n",
              "      width: 32px;\n",
              "    }\n",
              "\n",
              "    .colab-df-convert:hover {\n",
              "      background-color: #E2EBFA;\n",
              "      box-shadow: 0px 1px 2px rgba(60, 64, 67, 0.3), 0px 1px 3px 1px rgba(60, 64, 67, 0.15);\n",
              "      fill: #174EA6;\n",
              "    }\n",
              "\n",
              "    [theme=dark] .colab-df-convert {\n",
              "      background-color: #3B4455;\n",
              "      fill: #D2E3FC;\n",
              "    }\n",
              "\n",
              "    [theme=dark] .colab-df-convert:hover {\n",
              "      background-color: #434B5C;\n",
              "      box-shadow: 0px 1px 3px 1px rgba(0, 0, 0, 0.15);\n",
              "      filter: drop-shadow(0px 1px 2px rgba(0, 0, 0, 0.3));\n",
              "      fill: #FFFFFF;\n",
              "    }\n",
              "  </style>\n",
              "\n",
              "      <script>\n",
              "        const buttonEl =\n",
              "          document.querySelector('#df-c19fc415-07cc-473f-a364-c03ac2e377fd button.colab-df-convert');\n",
              "        buttonEl.style.display =\n",
              "          google.colab.kernel.accessAllowed ? 'block' : 'none';\n",
              "\n",
              "        async function convertToInteractive(key) {\n",
              "          const element = document.querySelector('#df-c19fc415-07cc-473f-a364-c03ac2e377fd');\n",
              "          const dataTable =\n",
              "            await google.colab.kernel.invokeFunction('convertToInteractive',\n",
              "                                                     [key], {});\n",
              "          if (!dataTable) return;\n",
              "\n",
              "          const docLinkHtml = 'Like what you see? Visit the ' +\n",
              "            '<a target=\"_blank\" href=https://colab.research.google.com/notebooks/data_table.ipynb>data table notebook</a>'\n",
              "            + ' to learn more about interactive tables.';\n",
              "          element.innerHTML = '';\n",
              "          dataTable['output_type'] = 'display_data';\n",
              "          await google.colab.output.renderOutput(dataTable, element);\n",
              "          const docLink = document.createElement('div');\n",
              "          docLink.innerHTML = docLinkHtml;\n",
              "          element.appendChild(docLink);\n",
              "        }\n",
              "      </script>\n",
              "    </div>\n",
              "  </div>\n",
              "  "
            ]
          },
          "metadata": {},
          "execution_count": 6
        }
      ]
    },
    {
      "cell_type": "code",
      "source": [
        "#create Target\n",
        "train_label = train_data.target.to_numpy()\n",
        "y_train = train_label.reshape(-1)\n",
        "train_data.drop(['id', 'keyword', 'location', 'target'], axis=1, inplace=True)\n",
        "test_data.drop(['id', 'keyword', 'location'], axis=1, inplace=True)\n",
        "train_data = train_data.to_numpy()\n",
        "test_data = test_data.to_numpy()\n",
        "x_train = train_data.reshape(-1)\n",
        "x_test = test_data.reshape(-1)"
      ],
      "metadata": {
        "id": "GELlFE2ZD_oQ"
      },
      "execution_count": 7,
      "outputs": []
    },
    {
      "cell_type": "code",
      "source": [
        "#Model constant\n",
        "max_features = 20000\n",
        "embedding_dim = 128\n",
        "max_len = 50"
      ],
      "metadata": {
        "id": "6g6yJM24EClu"
      },
      "execution_count": 8,
      "outputs": []
    },
    {
      "cell_type": "code",
      "source": [
        "from keras.layers import*\n",
        "vectorize_layer = TextVectorization(\n",
        "    max_tokens=max_features,\n",
        "    output_mode='int',\n",
        "    output_sequence_length=max_len)"
      ],
      "metadata": {
        "id": "SLlqn7-REkAn"
      },
      "execution_count": 9,
      "outputs": []
    },
    {
      "cell_type": "code",
      "source": [
        "vectorize_layer.adapt(train_data)\n",
        "import tensorflow as tf\n",
        "def vectorize_text(text, label):\n",
        "    text = tf.expand_dims(text, -1)\n",
        "    return vectorize_layer(text), label"
      ],
      "metadata": {
        "id": "JVVOX6M9En3I"
      },
      "execution_count": 11,
      "outputs": []
    },
    {
      "cell_type": "code",
      "source": [
        "from keras.metrics import AUC\n",
        "from keras import optimizers, losses\n",
        "def build_model():\n",
        "\n",
        "    text_input = tf.keras.Input(shape=(1,), dtype=tf.string, name='text')\n",
        "    x = vectorize_layer(text_input)\n",
        "    x = Embedding(max_features + 1, embedding_dim)(x)\n",
        "    x = Dropout(0.5)(x)\n",
        "\n",
        "    x1 = Bidirectional(LSTM(units=128, return_sequences=True))(x)\n",
        "    x2 = Bidirectional(LSTM(units=64, return_sequences=True))(x1)\n",
        "\n",
        "    z2 = Bidirectional(GRU(units=128, return_sequences=True))(x)\n",
        "    z3 = Bidirectional(GRU(units=64, return_sequences=True))(z2)\n",
        "    c = Concatenate(axis=2)([x2, z3])\n",
        "\n",
        "    x3 = Bidirectional(LSTM(units=128, return_sequences=True))(c)\n",
        "    # Conv1D + global max pooling\n",
        "\n",
        "    x = GlobalMaxPooling1D()(x3)\n",
        "\n",
        "    # We add a vanilla hidden layer:\n",
        "    x = Dense(128, activation=\"relu\")(x)\n",
        "    x = Dropout(0.5)(x)\n",
        "\n",
        "    # We project onto a single unit output layer, and squash it with a sigmoid:\n",
        "    predictions = Dense(1, activation=\"sigmoid\", name=\"predictions\")(x)\n",
        "\n",
        "    model = tf.keras.Model(text_input, predictions)\n",
        "\n",
        "    # Compile the model with binary crossentropy loss and an adam optimizer.\n",
        "\n",
        "    model.compile(loss=losses.binary_crossentropy, optimizer=optimizers.rmsprop_v2.RMSprop(learning_rate=0.01), metrics=[AUC(name = 'auc')])\n",
        "    #model.compile(loss=losses.binary_crossentropy, optimizer=optimizers.rmsprop_v2.RMSprop(learning_rate=0.01), metrics=['F1'])\n",
        "    return model\n"
      ],
      "metadata": {
        "id": "QAJecuveEyON"
      },
      "execution_count": 12,
      "outputs": []
    },
    {
      "cell_type": "code",
      "source": [
        "model = build_model()\n",
        "model.summary()"
      ],
      "metadata": {
        "colab": {
          "base_uri": "https://localhost:8080/"
        },
        "id": "o19zDESFE276",
        "outputId": "da62101d-5479-45d2-a8f9-cafa073c28ce"
      },
      "execution_count": 13,
      "outputs": [
        {
          "output_type": "stream",
          "name": "stdout",
          "text": [
            "Model: \"model\"\n",
            "__________________________________________________________________________________________________\n",
            " Layer (type)                   Output Shape         Param #     Connected to                     \n",
            "==================================================================================================\n",
            " text (InputLayer)              [(None, 1)]          0           []                               \n",
            "                                                                                                  \n",
            " text_vectorization (TextVector  (None, 50)          0           ['text[0][0]']                   \n",
            " ization)                                                                                         \n",
            "                                                                                                  \n",
            " embedding (Embedding)          (None, 50, 128)      2560128     ['text_vectorization[0][0]']     \n",
            "                                                                                                  \n",
            " dropout (Dropout)              (None, 50, 128)      0           ['embedding[0][0]']              \n",
            "                                                                                                  \n",
            " bidirectional (Bidirectional)  (None, 50, 256)      263168      ['dropout[0][0]']                \n",
            "                                                                                                  \n",
            " bidirectional_2 (Bidirectional  (None, 50, 256)     198144      ['dropout[0][0]']                \n",
            " )                                                                                                \n",
            "                                                                                                  \n",
            " bidirectional_1 (Bidirectional  (None, 50, 128)     164352      ['bidirectional[0][0]']          \n",
            " )                                                                                                \n",
            "                                                                                                  \n",
            " bidirectional_3 (Bidirectional  (None, 50, 128)     123648      ['bidirectional_2[0][0]']        \n",
            " )                                                                                                \n",
            "                                                                                                  \n",
            " concatenate (Concatenate)      (None, 50, 256)      0           ['bidirectional_1[0][0]',        \n",
            "                                                                  'bidirectional_3[0][0]']        \n",
            "                                                                                                  \n",
            " bidirectional_4 (Bidirectional  (None, 50, 256)     394240      ['concatenate[0][0]']            \n",
            " )                                                                                                \n",
            "                                                                                                  \n",
            " global_max_pooling1d (GlobalMa  (None, 256)         0           ['bidirectional_4[0][0]']        \n",
            " xPooling1D)                                                                                      \n",
            "                                                                                                  \n",
            " dense (Dense)                  (None, 128)          32896       ['global_max_pooling1d[0][0]']   \n",
            "                                                                                                  \n",
            " dropout_1 (Dropout)            (None, 128)          0           ['dense[0][0]']                  \n",
            "                                                                                                  \n",
            " predictions (Dense)            (None, 1)            129         ['dropout_1[0][0]']              \n",
            "                                                                                                  \n",
            "==================================================================================================\n",
            "Total params: 3,736,705\n",
            "Trainable params: 3,736,705\n",
            "Non-trainable params: 0\n",
            "__________________________________________________________________________________________________\n"
          ]
        }
      ]
    },
    {
      "cell_type": "code",
      "source": [
        "from sklearn.model_selection import train_test_split\n",
        "x_train, x_valid, y_train, y_valid = train_test_split(x_train, y_train, test_size=0.2, random_state=1)"
      ],
      "metadata": {
        "id": "l6HwuNlrE6gG"
      },
      "execution_count": 14,
      "outputs": []
    },
    {
      "cell_type": "code",
      "source": [
        "from keras.callbacks import *\n",
        "\n",
        "lr = ReduceLROnPlateau(monitor=\"val_auc\", mode='max', factor=0.7, patience=4, verbose=False)\n",
        "es = EarlyStopping(monitor='val_auc',mode='max', patience=10, verbose=False,restore_best_weights=True)\n",
        "\n",
        "history = model.fit(x_train, y_train, validation_data=(x_valid, y_valid), epochs=4, batch_size=256,\n",
        "                    callbacks=[es,lr])"
      ],
      "metadata": {
        "colab": {
          "base_uri": "https://localhost:8080/"
        },
        "id": "dV5RlyK3E8gC",
        "outputId": "82b5fd66-c6dd-44d3-8bcf-194e186cd28a"
      },
      "execution_count": 15,
      "outputs": [
        {
          "output_type": "stream",
          "name": "stdout",
          "text": [
            "Epoch 1/4\n",
            "24/24 [==============================] - 114s 4s/step - loss: 1.1843 - auc: 0.5026 - val_loss: 0.6870 - val_auc: 0.5305 - lr: 0.0100\n",
            "Epoch 2/4\n",
            "24/24 [==============================] - 76s 3s/step - loss: 0.6593 - auc: 0.6383 - val_loss: 0.5318 - val_auc: 0.8024 - lr: 0.0100\n",
            "Epoch 3/4\n",
            "24/24 [==============================] - 75s 3s/step - loss: 0.4565 - auc: 0.8620 - val_loss: 0.5612 - val_auc: 0.8085 - lr: 0.0100\n",
            "Epoch 4/4\n",
            "24/24 [==============================] - 79s 3s/step - loss: 0.3396 - auc: 0.9240 - val_loss: 0.6868 - val_auc: 0.8129 - lr: 0.0100\n"
          ]
        }
      ]
    },
    {
      "cell_type": "code",
      "source": [
        "def plot_hist(hist, metric='auc'):\n",
        "    plt.plot(hist.history[metric])\n",
        "    plt.plot(hist.history[\"val_\" + metric])\n",
        "    plt.title(f\"model performance\")\n",
        "    plt.ylabel(\"binary classification accuracy\")\n",
        "    plt.xlabel(\"epoch\")\n",
        "    plt.legend([\"train\", \"validation\"], loc=\"upper left\")\n",
        "    plt.show()\n",
        "    return\n",
        "plot_hist(hist=history)"
      ],
      "metadata": {
        "colab": {
          "base_uri": "https://localhost:8080/",
          "height": 295
        },
        "id": "kU2FmqHgGoex",
        "outputId": "32c723c6-ae0d-499a-f6c7-323e439b5fb5"
      },
      "execution_count": 17,
      "outputs": [
        {
          "output_type": "display_data",
          "data": {
            "text/plain": [
              "<Figure size 432x288 with 1 Axes>"
            ],
            "image/png": "[encoded data removed]"
          },
          "metadata": {
            "needs_background": "light"
          }
        }
      ]
    }
  ]
}