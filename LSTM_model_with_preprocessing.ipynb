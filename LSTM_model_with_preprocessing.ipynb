{
  "cells": [
    {
      "cell_type": "code",
      "execution_count": 29,
      "metadata": {
        "colab": {
          "base_uri": "https://localhost:8080/"
        },
        "id": "7Y3TPdtFvXLa",
        "outputId": "2506630b-c6db-481e-964f-d56bb2371323"
      },
      "outputs": [
        {
          "output_type": "stream",
          "name": "stdout",
          "text": [
            "1.11.0+cu113\n"
          ]
        }
      ],
      "source": [
        "import pandas as pd\n",
        "import numpy as np\n",
        "import torch\n",
        "from torch import cuda\n",
        "import random\n",
        "import os\n",
        "import re\n",
        "import torch\n",
        "from torch import nn\n",
        "from collections import Counter\n",
        "from sklearn.model_selection import train_test_split\n",
        "from sklearn.metrics import f1_score, classification_report\n",
        "from sklearn.utils.class_weight import compute_class_weight\n",
        "from matplotlib import pyplot as plt\n",
        "print(torch.__version__)\n"
      ]
    },
    {
      "cell_type": "code",
      "execution_count": 30,
      "metadata": {
        "id": "8u-0DsvfvXLd"
      },
      "outputs": [],
      "source": [
        "# data import\n",
        "#Training_data\n",
        "train_data = pd.read_csv(r\"/content/train.csv\")\n",
        "#test data import\n",
        "test_data = pd.read_csv(r\"/content/test.csv\")\n"
      ]
    },
    {
      "cell_type": "code",
      "execution_count": 31,
      "metadata": {
        "id": "h50N-2M_vXLd",
        "outputId": "878da868-f5d6-4356-aea7-35e360984084",
        "colab": {
          "base_uri": "https://localhost:8080/",
          "height": 224
        }
      },
      "outputs": [
        {
          "output_type": "stream",
          "name": "stdout",
          "text": [
            "Index(['id', 'keyword', 'location', 'text', 'target'], dtype='object')\n"
          ]
        },
        {
          "output_type": "execute_result",
          "data": {
            "text/plain": [
              "   id keyword location                                               text  \\\n",
              "0   1     NaN      NaN  Our Deeds are the Reason of this #earthquake M...   \n",
              "1   4     NaN      NaN             Forest fire near La Ronge Sask. Canada   \n",
              "2   5     NaN      NaN  All residents asked to 'shelter in place' are ...   \n",
              "3   6     NaN      NaN  13,000 people receive #wildfires evacuation or...   \n",
              "4   7     NaN      NaN  Just got sent this photo from Ruby #Alaska as ...   \n",
              "\n",
              "   target  \n",
              "0       1  \n",
              "1       1  \n",
              "2       1  \n",
              "3       1  \n",
              "4       1  "
            ],
            "text/html": [
              "\n",
              "  <div id=\"df-709e6eb1-9c9a-4b35-9eaf-e84bd092f3b3\">\n",
              "    <div class=\"colab-df-container\">\n",
              "      <div>\n",
              "<style scoped>\n",
              "    .dataframe tbody tr th:only-of-type {\n",
              "        vertical-align: middle;\n",
              "    }\n",
              "\n",
              "    .dataframe tbody tr th {\n",
              "        vertical-align: top;\n",
              "    }\n",
              "\n",
              "    .dataframe thead th {\n",
              "        text-align: right;\n",
              "    }\n",
              "</style>\n",
              "<table border=\"1\" class=\"dataframe\">\n",
              "  <thead>\n",
              "    <tr style=\"text-align: right;\">\n",
              "      <th></th>\n",
              "      <th>id</th>\n",
              "      <th>keyword</th>\n",
              "      <th>location</th>\n",
              "      <th>text</th>\n",
              "      <th>target</th>\n",
              "    </tr>\n",
              "  </thead>\n",
              "  <tbody>\n",
              "    <tr>\n",
              "      <th>0</th>\n",
              "      <td>1</td>\n",
              "      <td>NaN</td>\n",
              "      <td>NaN</td>\n",
              "      <td>Our Deeds are the Reason of this #earthquake M...</td>\n",
              "      <td>1</td>\n",
              "    </tr>\n",
              "    <tr>\n",
              "      <th>1</th>\n",
              "      <td>4</td>\n",
              "      <td>NaN</td>\n",
              "      <td>NaN</td>\n",
              "      <td>Forest fire near La Ronge Sask. Canada</td>\n",
              "      <td>1</td>\n",
              "    </tr>\n",
              "    <tr>\n",
              "      <th>2</th>\n",
              "      <td>5</td>\n",
              "      <td>NaN</td>\n",
              "      <td>NaN</td>\n",
              "      <td>All residents asked to 'shelter in place' are ...</td>\n",
              "      <td>1</td>\n",
              "    </tr>\n",
              "    <tr>\n",
              "      <th>3</th>\n",
              "      <td>6</td>\n",
              "      <td>NaN</td>\n",
              "      <td>NaN</td>\n",
              "      <td>13,000 people receive #wildfires evacuation or...</td>\n",
              "      <td>1</td>\n",
              "    </tr>\n",
              "    <tr>\n",
              "      <th>4</th>\n",
              "      <td>7</td>\n",
              "      <td>NaN</td>\n",
              "      <td>NaN</td>\n",
              "      <td>Just got sent this photo from Ruby #Alaska as ...</td>\n",
              "      <td>1</td>\n",
              "    </tr>\n",
              "  </tbody>\n",
              "</table>\n",
              "</div>\n",
              "      <button class=\"colab-df-convert\" onclick=\"convertToInteractive('df-709e6eb1-9c9a-4b35-9eaf-e84bd092f3b3')\"\n",
              "              title=\"Convert this dataframe to an interactive table.\"\n",
              "              style=\"display:none;\">\n",
              "        \n",
              "  <svg xmlns=\"http://www.w3.org/2000/svg\" height=\"24px\"viewBox=\"0 0 24 24\"\n",
              "       width=\"24px\">\n",
              "    <path d=\"M0 0h24v24H0V0z\" fill=\"none\"/>\n",
              "    <path d=\"M18.56 5.44l.94 2.06.94-2.06 2.06-.94-2.06-.94-.94-2.06-.94 2.06-2.06.94zm-11 1L8.5 8.5l.94-2.06 2.06-.94-2.06-.94L8.5 2.5l-.94 2.06-2.06.94zm10 10l.94 2.06.94-2.06 2.06-.94-2.06-.94-.94-2.06-.94 2.06-2.06.94z\"/><path d=\"M17.41 7.96l-1.37-1.37c-.4-.4-.92-.59-1.43-.59-.52 0-1.04.2-1.43.59L10.3 9.45l-7.72 7.72c-.78.78-.78 2.05 0 2.83L4 21.41c.39.39.9.59 1.41.59.51 0 1.02-.2 1.41-.59l7.78-7.78 2.81-2.81c.8-.78.8-2.07 0-2.86zM5.41 20L4 18.59l7.72-7.72 1.47 1.35L5.41 20z\"/>\n",
              "  </svg>\n",
              "      </button>\n",
              "      \n",
              "  <style>\n",
              "    .colab-df-container {\n",
              "      display:flex;\n",
              "      flex-wrap:wrap;\n",
              "      gap: 12px;\n",
              "    }\n",
              "\n",
              "    .colab-df-convert {\n",
              "      background-color: #E8F0FE;\n",
              "      border: none;\n",
              "      border-radius: 50%;\n",
              "      cursor: pointer;\n",
              "      display: none;\n",
              "      fill: #1967D2;\n",
              "      height: 32px;\n",
              "      padding: 0 0 0 0;\n",
              "      width: 32px;\n",
              "    }\n",
              "\n",
              "    .colab-df-convert:hover {\n",
              "      background-color: #E2EBFA;\n",
              "      box-shadow: 0px 1px 2px rgba(60, 64, 67, 0.3), 0px 1px 3px 1px rgba(60, 64, 67, 0.15);\n",
              "      fill: #174EA6;\n",
              "    }\n",
              "\n",
              "    [theme=dark] .colab-df-convert {\n",
              "      background-color: #3B4455;\n",
              "      fill: #D2E3FC;\n",
              "    }\n",
              "\n",
              "    [theme=dark] .colab-df-convert:hover {\n",
              "      background-color: #434B5C;\n",
              "      box-shadow: 0px 1px 3px 1px rgba(0, 0, 0, 0.15);\n",
              "      filter: drop-shadow(0px 1px 2px rgba(0, 0, 0, 0.3));\n",
              "      fill: #FFFFFF;\n",
              "    }\n",
              "  </style>\n",
              "\n",
              "      <script>\n",
              "        const buttonEl =\n",
              "          document.querySelector('#df-709e6eb1-9c9a-4b35-9eaf-e84bd092f3b3 button.colab-df-convert');\n",
              "        buttonEl.style.display =\n",
              "          google.colab.kernel.accessAllowed ? 'block' : 'none';\n",
              "\n",
              "        async function convertToInteractive(key) {\n",
              "          const element = document.querySelector('#df-709e6eb1-9c9a-4b35-9eaf-e84bd092f3b3');\n",
              "          const dataTable =\n",
              "            await google.colab.kernel.invokeFunction('convertToInteractive',\n",
              "                                                     [key], {});\n",
              "          if (!dataTable) return;\n",
              "\n",
              "          const docLinkHtml = 'Like what you see? Visit the ' +\n",
              "            '<a target=\"_blank\" href=https://colab.research.google.com/notebooks/data_table.ipynb>data table notebook</a>'\n",
              "            + ' to learn more about interactive tables.';\n",
              "          element.innerHTML = '';\n",
              "          dataTable['output_type'] = 'display_data';\n",
              "          await google.colab.output.renderOutput(dataTable, element);\n",
              "          const docLink = document.createElement('div');\n",
              "          docLink.innerHTML = docLinkHtml;\n",
              "          element.appendChild(docLink);\n",
              "        }\n",
              "      </script>\n",
              "    </div>\n",
              "  </div>\n",
              "  "
            ]
          },
          "metadata": {},
          "execution_count": 31
        }
      ],
      "source": [
        "#Print out the columns name and remove the header\n",
        "print(train_data.columns)\n",
        "train_data.head(5)"
      ]
    },
    {
      "cell_type": "code",
      "execution_count": 32,
      "metadata": {
        "id": "E5ZC_fCHvXLe",
        "colab": {
          "base_uri": "https://localhost:8080/"
        },
        "outputId": "f3866f2c-0873-447e-f898-cd0a36bf6726"
      },
      "outputs": [
        {
          "output_type": "stream",
          "name": "stdout",
          "text": [
            "['Our Deeds are the Reason of this #earthquake May ALLAH Forgive us all'\n",
            " 'Forest fire near La Ronge Sask. Canada'\n",
            " \"All residents asked to 'shelter in place' are being notified by officers. No other evacuation or shelter in place orders are expected\"\n",
            " ... 'M1.94 [01:04 UTC]?5km S of Volcano Hawaii. http://t.co/zDtoyd8EbJ'\n",
            " 'Police investigating after an e-bike collided with a car in Little Portugal. E-bike rider suffered serious non-life threatening injuries.'\n",
            " 'The Latest: More Homes Razed by Northern California Wildfire - ABC News http://t.co/YmY4rSkQ3d']\n",
            "[1 1 1 ... 1 1 1]\n"
          ]
        }
      ],
      "source": [
        "#create Target\n",
        "train_label = train_data.target.to_numpy()\n",
        "y_train = train_label.reshape(-1)\n",
        "train_data.drop(['id', 'keyword', 'location', 'target'], axis=1, inplace=True)\n",
        "test_data.drop(['id', 'keyword', 'location'], axis=1, inplace=True)\n",
        "train_data = train_data.to_numpy()\n",
        "test_data = test_data.to_numpy()\n",
        "x_train = train_data.reshape(-1)\n",
        "x_test = test_data.reshape(-1)\n",
        "print(x_train)\n",
        "print(y_train)"
      ]
    },
    {
      "cell_type": "code",
      "execution_count": 33,
      "metadata": {
        "id": "HbkhnkW9vXLe"
      },
      "outputs": [],
      "source": [
        "#Data clearning\n",
        "def clean_tweet(tweet):\n",
        "  #remove apostrophe\n",
        "  tweet = re.sub(r'\\x89Ûª', \"'\", tweet)\n",
        "  tweet = re.sub(r'\\x89Û÷', \"'\", tweet)\n",
        "  #remove quotation\n",
        "  tweet = re.sub(r'\\x89ÛÏ', '\"', tweet)\n",
        "  tweet = re.sub(r'\\x89Û\\x9d', '\"', tweet)\n",
        "  #remove hyphen\n",
        "  tweet = re.sub(r'\\x89ÛÒ', '-', tweet)\n",
        "  tweet = re.sub(r'\\x89ÛÓ', '—', tweet)\n",
        "  #remove euro\n",
        "  tweet = re.sub(r'\\x89âÂ', '€', tweet)\n",
        "  #remove ellipsis\n",
        "  tweet = re.sub(r'\\x89Û_', '...', tweet)\n",
        "  #remove amp\n",
        "  tweet = re.sub(r'&', 'and', tweet)\n",
        "  #remove bullet\n",
        "  tweet = re.sub(r\"\\x89Û¢åÊ\", \"\", tweet)\n",
        "  tweet = re.sub(r'\\x89Û¢', '', tweet)\n",
        "  #remove others\n",
        "  tweet = re.sub(r\"fromåÊwounds\", \"from wounds\", tweet)\n",
        "  tweet = re.sub(r\"åÊ\", \"\", tweet)\n",
        "  tweet = re.sub(r\"åÈ\", \"\", tweet)\n",
        "  tweet = re.sub(r\"JapÌ_n\", \"Japan\", tweet)\n",
        "  tweet = re.sub(r\"Ì©\", \"e\", tweet)\n",
        "  tweet = re.sub(r\"å¨\", \"\", tweet)\n",
        "  tweet = re.sub(r\"SuruÌ¤\", \"Suruc\", tweet)\n",
        "  tweet = re.sub(r\"åÇ\", \"\", tweet)\n",
        "  tweet = re.sub(r\"å£3million\", \"3 million \", tweet)\n",
        "  tweet = re.sub(r\"åÀ\", \"\", tweet)\n",
        "  return tweet\n",
        "#remove URL\n",
        "def remove_URL(text):\n",
        "    url = re.compile(r'https?://\\S+|www\\.\\S+')\n",
        "    return url.sub(r'This is a website.',text)\n",
        "#remove html\n",
        "def remove_html(text):\n",
        "  html=re.compile(r'<.*?>')\n",
        "  return html.sub(r'',text)\n",
        "#remove emoji\n",
        "def remove_emoji(text):\n",
        "    emoji_pattern = re.compile(\"[\"\n",
        "                           u\"\\U0001F600-\\U0001F64F\"  # emoticons\n",
        "                           u\"\\U0001F300-\\U0001F5FF\"  # symbols & pictographs\n",
        "                           u\"\\U0001F680-\\U0001F6FF\"  # transport & map symbols\n",
        "                           u\"\\U0001F1E0-\\U0001F1FF\"  # flags (iOS)\n",
        "                           u\"\\U00002702-\\U000027B0\"\n",
        "                           u\"\\U000024C2-\\U0001F251\"\n",
        "                           \"]+\", flags=re.UNICODE)\n",
        "    return emoji_pattern.sub(r'', text)"
      ]
    },
    {
      "cell_type": "code",
      "execution_count": 34,
      "metadata": {
        "id": "7Ic3MhZVvXLf"
      },
      "outputs": [],
      "source": [
        "#Normalization \n",
        "def custom_standardization(input_data):\n",
        "    r = clean_tweet(input_data)\n",
        "    r = remove_URL(r)\n",
        "    r = remove_html(r)\n",
        "    r = remove_emoji(r)\n",
        "    r = str.lower(r)\n",
        "    return r  \n",
        "all_tweets = np.append(x_train, x_test)\n",
        "def normalization(tweets):\n",
        "    result = []\n",
        "    for tweet in tweets:\n",
        "        result.append(custom_standardization(tweet))\n",
        "    return result\n",
        "\n",
        "all_tweets = normalization(all_tweets)"
      ]
    },
    {
      "cell_type": "code",
      "execution_count": 35,
      "metadata": {
        "id": "cNEzBsmnvXLg"
      },
      "outputs": [],
      "source": [
        "#Model constant\n",
        "max_features = 20000\n",
        "embedding_dim = 128\n",
        "max_len = 500\n",
        "#Textvectorization\n",
        "from keras.layers import*\n",
        "vectorize_layer = TextVectorization(\n",
        "    max_tokens=max_features,\n",
        "    output_mode='int',\n",
        "    output_sequence_length=max_len)\n",
        "#Make a text-only dataset (no labels)\n",
        "vectorize_layer.adapt(all_tweets)\n",
        "#import tensorflow \n",
        "import tensorflow as tf\n",
        "def vectorize_text(text, label):\n",
        "    text = tf.expand_dims(text, -1)\n",
        "    return vectorize_layer(text), label"
      ]
    },
    {
      "cell_type": "code",
      "execution_count": 36,
      "metadata": {
        "id": "_bL35KunvXLh"
      },
      "outputs": [],
      "source": [
        "# Start to build bidirection LSTM model\n",
        "from keras.metrics import AUC\n",
        "from keras import optimizers, losses\n",
        "def build_model():\n",
        "\n",
        "    text_input = tf.keras.Input(shape=(1,), dtype=tf.string, name='text')\n",
        "    x = vectorize_layer(text_input)\n",
        "    x = Embedding(max_features + 1, embedding_dim)(x)\n",
        "    x = Dropout(0.5)(x)\n",
        "    #Bidirection LSTM\n",
        "    x1 = Bidirectional(LSTM(units=128, return_sequences=True))(x)\n",
        "    x2 = Bidirectional(LSTM(units=64, return_sequences=True))(x1)\n",
        "    #GRU\n",
        "    z2 = Bidirectional(GRU(units=128, return_sequences=True))(x)\n",
        "    z3 = Bidirectional(GRU(units=64, return_sequences=True))(z2)\n",
        "    c = Concatenate(axis=2)([x2, z3])\n",
        "    x3 = Bidirectional(LSTM(units=128, return_sequences=True))(c)\n",
        "    #Using Global Maxpooling\n",
        "    x = GlobalMaxPooling1D()(x3)\n",
        "    # Add a vanilla hidden layer:\n",
        "    x = Dense(128, activation=\"relu\")(x)\n",
        "    x = Dropout(0.5)(x)\n",
        "    # We project onto a single unit output layer, and squash it with a sigmoid:\n",
        "    predictions = Dense(1, activation=\"sigmoid\", name=\"predictions\")(x)\n",
        "    model = tf.keras.Model(text_input, predictions)\n",
        "    # Compile the model with binary crossentropy loss and an adam optimizer.\n",
        "    model.compile(loss=losses.binary_crossentropy, optimizer=optimizers.rmsprop_v2.RMSprop(learning_rate=0.01), metrics=[AUC(name = 'auc')])\n",
        "    return model"
      ]
    },
    {
      "cell_type": "code",
      "execution_count": 37,
      "metadata": {
        "id": "ioutF2omvXLi",
        "colab": {
          "base_uri": "https://localhost:8080/"
        },
        "outputId": "af697d4b-35cd-4ac2-c683-7575dbc4fd4c"
      },
      "outputs": [
        {
          "output_type": "stream",
          "name": "stdout",
          "text": [
            "Model: \"model_2\"\n",
            "__________________________________________________________________________________________________\n",
            " Layer (type)                   Output Shape         Param #     Connected to                     \n",
            "==================================================================================================\n",
            " text (InputLayer)              [(None, 1)]          0           []                               \n",
            "                                                                                                  \n",
            " text_vectorization_3 (TextVect  (None, 500)         0           ['text[0][0]']                   \n",
            " orization)                                                                                       \n",
            "                                                                                                  \n",
            " embedding_2 (Embedding)        (None, 500, 128)     2560128     ['text_vectorization_3[0][0]']   \n",
            "                                                                                                  \n",
            " dropout_4 (Dropout)            (None, 500, 128)     0           ['embedding_2[0][0]']            \n",
            "                                                                                                  \n",
            " bidirectional_10 (Bidirectiona  (None, 500, 256)    263168      ['dropout_4[0][0]']              \n",
            " l)                                                                                               \n",
            "                                                                                                  \n",
            " bidirectional_12 (Bidirectiona  (None, 500, 256)    198144      ['dropout_4[0][0]']              \n",
            " l)                                                                                               \n",
            "                                                                                                  \n",
            " bidirectional_11 (Bidirectiona  (None, 500, 128)    164352      ['bidirectional_10[0][0]']       \n",
            " l)                                                                                               \n",
            "                                                                                                  \n",
            " bidirectional_13 (Bidirectiona  (None, 500, 128)    123648      ['bidirectional_12[0][0]']       \n",
            " l)                                                                                               \n",
            "                                                                                                  \n",
            " concatenate_2 (Concatenate)    (None, 500, 256)     0           ['bidirectional_11[0][0]',       \n",
            "                                                                  'bidirectional_13[0][0]']       \n",
            "                                                                                                  \n",
            " bidirectional_14 (Bidirectiona  (None, 500, 256)    394240      ['concatenate_2[0][0]']          \n",
            " l)                                                                                               \n",
            "                                                                                                  \n",
            " global_max_pooling1d_2 (Global  (None, 256)         0           ['bidirectional_14[0][0]']       \n",
            " MaxPooling1D)                                                                                    \n",
            "                                                                                                  \n",
            " dense_2 (Dense)                (None, 128)          32896       ['global_max_pooling1d_2[0][0]'] \n",
            "                                                                                                  \n",
            " dropout_5 (Dropout)            (None, 128)          0           ['dense_2[0][0]']                \n",
            "                                                                                                  \n",
            " predictions (Dense)            (None, 1)            129         ['dropout_5[0][0]']              \n",
            "                                                                                                  \n",
            "==================================================================================================\n",
            "Total params: 3,736,705\n",
            "Trainable params: 3,736,705\n",
            "Non-trainable params: 0\n",
            "__________________________________________________________________________________________________\n"
          ]
        }
      ],
      "source": [
        "model = build_model()\n",
        "model.summary()"
      ]
    },
    {
      "cell_type": "code",
      "execution_count": 38,
      "metadata": {
        "id": "O560mgfAvXLi"
      },
      "outputs": [],
      "source": [
        "#Split the training set into 2 part, train and valid\n",
        "from sklearn.model_selection import train_test_split\n",
        "x_train, x_valid, y_train, y_valid = train_test_split(x_train, y_train, test_size=0.2, random_state=1)"
      ]
    },
    {
      "cell_type": "code",
      "execution_count": 39,
      "metadata": {
        "id": "5CONSHfPvXLi",
        "colab": {
          "base_uri": "https://localhost:8080/"
        },
        "outputId": "3eaea042-c9ec-4bc2-99dd-b4e09b253b9d"
      },
      "outputs": [
        {
          "output_type": "stream",
          "name": "stdout",
          "text": [
            "Epoch 1/4\n",
            "24/24 [==============================] - 31s 708ms/step - loss: 1.3735 - auc: 0.4952 - val_loss: 0.6812 - val_auc: 0.5000 - lr: 0.0100\n",
            "Epoch 2/4\n",
            "24/24 [==============================] - 14s 582ms/step - loss: 0.6880 - auc: 0.4949 - val_loss: 0.6830 - val_auc: 0.5191 - lr: 0.0100\n",
            "Epoch 3/4\n",
            "24/24 [==============================] - 14s 580ms/step - loss: 0.6565 - auc: 0.6481 - val_loss: 0.6216 - val_auc: 0.7209 - lr: 0.0100\n",
            "Epoch 4/4\n",
            "24/24 [==============================] - 14s 570ms/step - loss: 0.4733 - auc: 0.8393 - val_loss: 0.5404 - val_auc: 0.7919 - lr: 0.0100\n"
          ]
        }
      ],
      "source": [
        "from keras.callbacks import *\n",
        "\n",
        "lr = ReduceLROnPlateau(monitor=\"val_auc\", mode='max', factor=0.7, patience=4, verbose=False)\n",
        "es = EarlyStopping(monitor='val_auc',mode='max', patience=10, verbose=False,restore_best_weights=True)\n",
        "\n",
        "history = model.fit(x_train, y_train, validation_data=(x_valid, y_valid), epochs=4, batch_size=256,\n",
        "                    callbacks=[es,lr])"
      ]
    },
    {
      "cell_type": "code",
      "execution_count": 40,
      "metadata": {
        "id": "ImtHUkJ8vXLj",
        "colab": {
          "base_uri": "https://localhost:8080/",
          "height": 295
        },
        "outputId": "7c303006-61dd-4204-a65a-7921e9df916f"
      },
      "outputs": [
        {
          "output_type": "display_data",
          "data": {
            "text/plain": [
              "<Figure size 432x288 with 1 Axes>"
            ],
            "image/png": "[encoded data removed]"
          },
          "metadata": {
            "needs_background": "light"
          }
        }
      ],
      "source": [
        "#visulization of the result\n",
        "def plot_hist(hist, metric='auc'):\n",
        "    plt.plot(hist.history[metric])\n",
        "    plt.plot(hist.history[\"val_\" + metric])\n",
        "    plt.title(f\"model performance\")\n",
        "    plt.ylabel(\"binary classification accuracu\")\n",
        "    plt.xlabel(\"epoch\")\n",
        "    plt.legend([\"train\", \"validation\"], loc=\"upper left\")\n",
        "    plt.show()\n",
        "    return\n",
        "plot_hist(hist=history)"
      ]
    }
  ],
  "metadata": {
    "kernelspec": {
      "display_name": "Python 3 (ipykernel)",
      "language": "python",
      "name": "python3"
    },
    "language_info": {
      "codemirror_mode": {
        "name": "ipython",
        "version": 3
      },
      "file_extension": ".py",
      "mimetype": "text/x-python",
      "name": "python",
      "nbconvert_exporter": "python",
      "pygments_lexer": "ipython3",
      "version": "3.9.7"
    },
    "colab": {
      "name": "LSTM model with preprocessing.ipynb",
      "provenance": []
    },
    "accelerator": "GPU"
  },
  "nbformat": 4,
  "nbformat_minor": 0
}